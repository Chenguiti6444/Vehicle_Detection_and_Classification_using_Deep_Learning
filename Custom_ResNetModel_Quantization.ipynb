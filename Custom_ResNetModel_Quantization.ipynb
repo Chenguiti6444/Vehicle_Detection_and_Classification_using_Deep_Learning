{
  "cells": [
    {
      "cell_type": "code",
      "execution_count": null,
      "metadata": {
        "colab": {
          "base_uri": "https://localhost:8080/"
        },
        "id": "mYa8ErN8fHit",
        "outputId": "4d44ce34-65af-4d63-a4e7-b03ba63a2c31"
      },
      "outputs": [
        {
          "output_type": "stream",
          "name": "stdout",
          "text": [
            "Mounted at /content/drive\n"
          ]
        }
      ],
      "source": [
        "import tensorflow as tf\n",
        "from tensorflow.keras.preprocessing.image import ImageDataGenerator\n",
        "from tensorflow.keras.applications.convnext import ConvNeXtBase\n",
        "from tensorflow.keras.layers import GlobalAveragePooling2D, Dense\n",
        "from tensorflow.keras.optimizers import Adam\n",
        "from tensorflow.keras.callbacks import ModelCheckpoint\n",
        "from sklearn.model_selection import train_test_split\n",
        "from sklearn.metrics import confusion_matrix, classification_report\n",
        "import matplotlib.pyplot as plt\n",
        "import pickle\n",
        "import seaborn as sns\n",
        "import time\n",
        "from google.colab import drive\n",
        "\n",
        "# Mount Google Drive\n",
        "drive.mount(\"/content/drive\", force_remount=True)\n",
        "\n",
        "# Define the path to the saved model\n",
        "saved_model_path = r'/content/drive/MyDrive/R&D Project/Models/Customized_ResNet_Model_Unfrozen.tf'\n",
        "\n",
        "# Load the saved model\n",
        "model = tf.keras.models.load_model(saved_model_path)"
      ]
    },
    {
      "cell_type": "code",
      "execution_count": null,
      "metadata": {
        "id": "bmiQ6_uhgL-_"
      },
      "outputs": [],
      "source": [
        "# Convert the model to a quantized version\n",
        "converter = tf.lite.TFLiteConverter.from_keras_model(model)\n",
        "converter.optimizations = [tf.lite.Optimize.DEFAULT]\n",
        "\n",
        "quantized_model = converter.convert()\n",
        "\n",
        "# Save the quantized model\n",
        "quantized_model_path = r'/content/drive/MyDrive/R&D Project/Models/Quantized_Customized_ResNet_Model.tflite'\n",
        "with open(quantized_model_path, 'wb') as f:\n",
        "    f.write(quantized_model)"
      ]
    }
  ],
  "metadata": {
    "accelerator": "GPU",
    "colab": {
      "gpuType": "T4",
      "provenance": []
    },
    "kernelspec": {
      "display_name": "Python 3",
      "name": "python3"
    },
    "language_info": {
      "name": "python"
    }
  },
  "nbformat": 4,
  "nbformat_minor": 0
}